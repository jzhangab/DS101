{
 "nbformat": 4,
 "nbformat_minor": 2,
 "metadata": {
  "language_info": {
   "name": "python",
   "codemirror_mode": {
    "name": "ipython",
    "version": 3
   },
   "version": "3.7.4"
  },
  "orig_nbformat": 2,
  "file_extension": ".py",
  "mimetype": "text/x-python",
  "name": "python",
  "npconvert_exporter": "python",
  "pygments_lexer": "ipython3",
  "version": 3
 },
 "cells": [
  {
   "cell_type": "markdown",
   "metadata": {},
   "outputs": [],
   "source": [
    "# Introduction to Python\n",
    "\n",
    "## Contents\n",
    "1. Variables\n",
    "2. Lists\n",
    "3. Strings\n",
    "4. Dictionaries\n",
    "5. If/Else and Bools\n",
    "6. Loops\n",
    "7. Functions\n",
    "8. Reading a file\n",
    "9. Plotting a histogram\n",
    "10. Plotting a scatterplot\n",
    "\n",
    "## How to use this notebook\n",
    "- To execute any single block of text or markdown, use ctrl+enter, shift+enter or press the run arrow on the left of the box (only in Colaboratory)\n",
    "- To reset the notebook select \"Factory reset runtime\" from the Runtime tab at the top of Colaboratory"
   ]
  },
  {
   "cell_type": "markdown",
   "metadata": {},
   "outputs": [],
   "source": [
    "## 1. Variables"
   ]
  },
  {
   "cell_type": "code",
   "metadata": {},
   "outputs": [],
   "source": [
    "# Assign the variable \"a\" the integer 2\n",
    "# Using the print statement results in 2\n",
    "# Try changing the value of a and re-running this block of text using shift+enter\n",
    "a = 2\n",
    "print (a)"
   ]
  },
  {
   "cell_type": "code",
   "metadata": {},
   "outputs": [],
   "source": [
    "# You can do the same with a string (text)\n",
    "b = \"Hello World!\"\n",
    "print (b)"
   ]
  },
  {
   "cell_type": "code",
   "metadata": {},
   "outputs": [],
   "source": [
    "# Now assign values to 2 variables and then perform arithmatic\n",
    "x = 2\n",
    "y = 3.5\n",
    "print (\"This is addition:\", x+y)\n",
    "print (\"This is subtraction:\", x-y)\n",
    "print (\"This is multiplication:\", x*y)\n",
    "print (\"This is division:\", x/y)\n",
    "print (\"This is modulus:\", x%y)"
   ]
  },
  {
   "cell_type": "code",
   "metadata": {},
   "outputs": [],
   "source": [
    "# Can you calculate the average of x and y?\n",
    "# Store the average of x and y in a variable and print. Type your code below and ctrl+enter or shift+enter to execute.\n",
    "\n"
   ]
  },
  {
   "cell_type": "code",
   "metadata": {},
   "outputs": [],
   "source": [
    "# Can you calculate the factorial of 5?\n",
    "# Store the factorial of 5 in a variable and print. Type your code below and ctrl+enter or shift+enter to execute.\n",
    "\n"
   ]
  },
  {
   "cell_type": "markdown",
   "metadata": {},
   "outputs": [],
   "source": [
    "## 2. Lists\n",
    "Lists are objects that contain many variables"
   ]
  },
  {
   "cell_type": "code",
   "metadata": {},
   "outputs": [],
   "source": [
    "# Lists can contain either a single type of variable...\n",
    "listA = [1, 2, 3, 4, 5]\n",
    "\n",
    "# ... or several different types\n",
    "listB = [1, \"Hello World!\", 3.5, ['List', 'In', 'List']]\n",
    "\n",
    "print(\"List A:\", listA)\n",
    "print(\"List B:\", listB)"
   ]
  },
  {
   "cell_type": "code",
   "metadata": {},
   "outputs": [],
   "source": [
    "# As you saw from listB, a list can contain a \"list of lists\" which if you are familiar with linear algebra is a matrix\n",
    "matrixC = [[1, 0, 1], [0, 3, 0], [2, 0, 2]]\n",
    "print(matrixC)"
   ]
  },
  {
   "cell_type": "markdown",
   "metadata": {},
   "outputs": [],
   "source": [
    "### Lists can be \"indexed\", meaning we can use the position of the values in a list to retrieve them."
   ]
  },
  {
   "cell_type": "code",
   "metadata": {},
   "outputs": [],
   "source": [
    "# Return the 3rd value of listA\n",
    "listA = [1, 2, 3, 4, 5]\n",
    "A3 = listA[3]\n",
    "print(A3)"
   ]
  },
  {
   "cell_type": "code",
   "metadata": {},
   "outputs": [],
   "source": [
    "# Oops it looks like when we use the index \"3\", the returned value is the 4th value of list A.\n",
    "# This is because Python starts list indices at \"0\" and not \"1\".\n",
    "A3 = listA[2]\n",
    "print(A3)"
   ]
  },
  {
   "cell_type": "code",
   "metadata": {},
   "outputs": [],
   "source": [
    "# We can even grab a range of values. Python syntax includes all values up to but not including the trailing index.\n",
    "# Let's get the first 3 values of A3.\n",
    "print( listA[0:3] )"
   ]
  },
  {
   "cell_type": "code",
   "metadata": {},
   "outputs": [],
   "source": [
    "# Is there a simple way to get the last index without counting the number of items in a list?\n",
    "# Yes! Use negative indices, basically counting backwards.\n",
    "print( listA[-1] )"
   ]
  },
  {
   "cell_type": "code",
   "metadata": {},
   "outputs": [],
   "source": [
    "# You can add something to a list by using the built-in function \"append\".\n",
    "listA.append(6)\n",
    "listA"
   ]
  },
  {
   "cell_type": "code",
   "metadata": {},
   "outputs": [],
   "source": [
    "# Now try to get the value from row 2, column 2 (middle value) of the matrixC. If you did not modify matrixC the value is \"3\"\n",
    "# List indices in python stack sideways, so referencing a value in a matrix is \"variable[row][column]\"\n",
    "\n",
    "matrixC = [[1, 0, 1], [0, 3, 0], [2, 0, 2]]\n",
    "\n",
    "# Type your code below and ctrl+enter or shift+enter to execute.\n",
    "\n",
    "\n"
   ]
  },
  {
   "cell_type": "markdown",
   "metadata": {},
   "outputs": [],
   "source": [
    "## 3. Strings\n",
    "Strings are a special type of variable that represents text. They can be stored, indexed, and even used in training machine learning algorithms!"
   ]
  },
  {
   "cell_type": "code",
   "metadata": {},
   "outputs": [],
   "source": [
    "# Store a sentence as a string variable\n",
    "text = \"This is a sentence stored in the variable text.\"\n",
    "\n",
    "# In a notebook format you can simply print the value of the variable by declaring it.\n",
    "text"
   ]
  },
  {
   "cell_type": "code",
   "metadata": {},
   "outputs": [],
   "source": [
    "# What if I want a part of the string? Strings are similar to lists and can be indexed.\n",
    "# Let's get the 3rd character of the string\n",
    "text[2]"
   ]
  },
  {
   "cell_type": "code",
   "metadata": {},
   "outputs": [],
   "source": [
    "# But what if I want an entire word? You can use a range index to retrieve a word.\n",
    "# Let's grab the word \"sentence\"\n",
    "text[10:18]"
   ]
  },
  {
   "cell_type": "code",
   "metadata": {},
   "outputs": [],
   "source": [
    "# Sometimes you want to know the length of a string or a list, the built in function \"len\" does this task.\n",
    "print(\"The text variable has the following number of characters.\")\n",
    "len(text)"
   ]
  },
  {
   "cell_type": "code",
   "metadata": {},
   "outputs": [],
   "source": [
    "# What about combining sentences?\n",
    "# Text concatenation in Python uses the addition operator\n",
    "\"Hello\" + \" World\" + \"!\""
   ]
  },
  {
   "cell_type": "markdown",
   "metadata": {},
   "outputs": [],
   "source": [
    "## 4. Dictionaries\n",
    "A Dictionary can be thought of as a custom list that can use both numerical indices as well as keywords to retrieve values. Dictionaries are one of the most useful variable types and form the backbone of a very common object called a hashmap that is used to speed up software processes."
   ]
  },
  {
   "cell_type": "code",
   "metadata": {},
   "outputs": [],
   "source": [
    "# Dictionaries come in a list of key:value pairs.\n",
    "dictA = { \"key1\" : 1,\n",
    "          \"key2\" : 2,\n",
    "          \"key3\" : \"Hi Mom!\",\n",
    "          \"key4\" : 16.55\n",
    "        }\n",
    "\n",
    "print(dictA)"
   ]
  },
  {
   "cell_type": "code",
   "metadata": {},
   "outputs": [],
   "source": [
    "# Dictionaries can be referenced by their numerical indices similar to lists.\n",
    "# Let's get \"Hi Mom!\"\n",
    "dictA[\"key3\"]"
   ]
  },
  {
   "cell_type": "code",
   "metadata": {},
   "outputs": [],
   "source": [
    "# What if I want to access the keys of the dictionary?\n",
    "dictA.keys()"
   ]
  },
  {
   "cell_type": "code",
   "metadata": {},
   "outputs": [],
   "source": [
    "# And just the values?\n",
    "dictA.values()"
   ]
  },
  {
   "cell_type": "code",
   "metadata": {},
   "outputs": [],
   "source": [
    "# What if we want to use numerical indices?\n",
    "# Starting in Python 3.7, dictionaries preserve order but require list conversion of the values\n",
    "list(dictA.values())[2]"
   ]
  },
  {
   "cell_type": "code",
   "metadata": {},
   "outputs": [],
   "source": [
    "# Now practice by using the following dictionary dictB and add the two strings together into a sentence.\n",
    "# Your output should be \"Hello World!\"\n",
    "\n",
    "dictB = { \"number_1\" : 1,\n",
    "          \"text_1\" : \"Hello\",\n",
    "          \"number_2\" : 5.5,\n",
    "          \"text_2\" : \" World!\"\n",
    "        }\n",
    "\n",
    "# Type your code below and ctrl+enter or shift+enter to execute.\n",
    "\n",
    "\n"
   ]
  },
  {
   "cell_type": "code",
   "metadata": {},
   "outputs": [],
   "source": [
    "# Hard mode: retrieve the 3rd key of dictB\n",
    "# Type your code below and ctrl+enter or shift+enter to execute.\n",
    "\n",
    "\n"
   ]
  },
  {
   "cell_type": "markdown",
   "metadata": {},
   "outputs": [],
   "source": [
    "## 5. If/Else and Bools\n",
    "1. If/Else statements form the backbone of heuristic artificial intelligence. Basically giving you a choice of executing a statement in multiple ways based on a condition.\n",
    "2. Boolean variables allow you to evaluate a condition as True or False, forming the ability to execute conditions based on the boolean variable."
   ]
  },
  {
   "cell_type": "code",
   "metadata": {},
   "outputs": [],
   "source": [
    "# Below is a conditional statement using if/else, yes this is actually Artificial Intelligence!\n",
    "# Try changing the value of December and seeing what output you get!\n",
    "December = 12\n",
    "\n",
    "if December == 12:\n",
    "    print (\"Yes December is the 12th month.\")\n",
    "else:\n",
    "    print (\"December is not the 12th month.\")"
   ]
  },
  {
   "cell_type": "code",
   "metadata": {},
   "outputs": [],
   "source": [
    "# Ok hold on a minute, what is the operator double equal sign? ==\n",
    "# The double equal sign is a boolean operator, it evaluates if the left and right side are equal.\n",
    "print (\"This is a false statement and should evaluate to false:\", 6 == 5)\n",
    "print (\"This is a true statement and should evaluate to true:\", 5 == 5)"
   ]
  },
  {
   "cell_type": "code",
   "metadata": {},
   "outputs": [],
   "source": [
    "# What other types of boolean operators are there?\n",
    "print (\"This is the OR operator | and should evaluate to True:\", (6==5)|(5==5))\n",
    "print (\"This is the AND operator & and should evaluate to False:\", (6==5)&(5==5))\n",
    "print (\"This is the less than operator and should evaluate to True:\", 5 < 6)\n",
    "print (\"This is the greater than operator and should evaluate to False:\", 5 > 6)"
   ]
  },
  {
   "cell_type": "code",
   "metadata": {},
   "outputs": [],
   "source": [
    "# Basically we can combine boolean operators to make some really flexible and complex logic.\n",
    "# Try changing the value of \"a\" below and see what output you get.\n",
    "\n",
    "a = 6\n",
    "\n",
    "if a == 5:\n",
    "    print (\"a is 5.\")\n",
    "elif a > 5: # elif is \"else if\" and is used to add conditions to the if/else conditional tree.\n",
    "    print (\"a is greater than 5.\")\n",
    "else:\n",
    "    print (\"a is less than 5.\")"
   ]
  },
  {
   "cell_type": "code",
   "metadata": {},
   "outputs": [],
   "source": [
    "# Practice time! Use NESTED if statements to print \"YES\" when a, b, and c are True and \"NO\" when any of the conditions are False.\n",
    "a = 5\n",
    "b = 6\n",
    "c = True\n",
    "\n",
    "# Type your code below and ctrl+enter or shift+enter to execute.\n",
    "\n",
    "\n"
   ]
  },
  {
   "cell_type": "markdown",
   "metadata": {},
   "outputs": [],
   "source": [
    "## 6. Loops\n",
    "1. For loops iterate through a specific range of values or a list\n",
    "2. While loops continuously execute as long as they are true. BE CAREFUL! They can execute infinitely and crash your computer. :("
   ]
  },
  {
   "cell_type": "code",
   "metadata": {},
   "outputs": [],
   "source": [
    "# This for loop iterates through a range of values and prints each one.\n",
    "for i in range(0,4):\n",
    "    print(i)"
   ]
  },
  {
   "cell_type": "code",
   "metadata": {},
   "outputs": [],
   "source": [
    "# You can also iterate through a list\n",
    "listA = [0, 1, 1, 2, 3, 5, 8]\n",
    "for i in listA:\n",
    "    print(i)"
   ]
  },
  {
   "cell_type": "code",
   "metadata": {},
   "outputs": [],
   "source": [
    "# You can iterate with both the index AND the value of a list\n",
    "listB = [\"Hello\", \"World\", \"!\"]\n",
    "for i, j in enumerate(listB):\n",
    "    print(i, j)"
   ]
  },
  {
   "cell_type": "code",
   "metadata": {},
   "outputs": [],
   "source": [
    "# You can even iterate through a dictionary\n",
    "dictA = { \"key1\" : 1,\n",
    "          \"key2\" : 2,\n",
    "          \"key3\" : \"Hi Mom!\",\n",
    "          \"key4\" : 16.55\n",
    "        }\n",
    "\n",
    "for k in dictA:\n",
    "    print (\"Key:\", k)\n",
    "    print (\"Value:\", dictA[k])"
   ]
  },
  {
   "cell_type": "code",
   "metadata": {},
   "outputs": [],
   "source": [
    "# While loops are typically combined with a conditional statement or a bool\n",
    "a = 4\n",
    "i = 0\n",
    "while (i <= a):\n",
    "    print(i)\n",
    "    i = i + 1 # Remember you need to increment i to end the loop when i reaches a or it will run forever!"
   ]
  },
  {
   "cell_type": "code",
   "metadata": {},
   "outputs": [],
   "source": [
    "# You can use a conditional to \"break\" a loop early and end the loop\n",
    "a = 4\n",
    "i = 0\n",
    "while(True):\n",
    "    print(i)\n",
    "    i = i + 1\n",
    "    if (i > a):\n",
    "        break"
   ]
  },
  {
   "cell_type": "code",
   "metadata": {},
   "outputs": [],
   "source": [
    "# Practice time! Using either a for loop or a while loop, print only the odd values of the following list.\n",
    "listC = [1, 2, 3, 4, 5, 6, 7]\n",
    "\n",
    "# Type your code below and ctrl+enter or shift+enter to execute.\n",
    "\n",
    "\n"
   ]
  },
  {
   "cell_type": "markdown",
   "metadata": {},
   "outputs": [],
   "source": [
    "## 7. Functions\n",
    "Functions are pieces of code that can be reused. Except in special cases, variables declared in a function only exist within that function unless used in the return statement."
   ]
  },
  {
   "cell_type": "code",
   "metadata": {},
   "outputs": [],
   "source": [
    "# Let's write a function to add two numbers and then return the result.\n",
    "def myfunc(x, y):\n",
    "    \"\"\"Returns the sum of x and y\"\"\"\n",
    "    return(x+y)"
   ]
  },
  {
   "cell_type": "code",
   "metadata": {},
   "outputs": [],
   "source": [
    "# To call the previous function, invoke. You can also store the result in a new variable\n",
    "z = myfunc(2, 3)\n",
    "print(\"Sum is:\", z)"
   ]
  },
  {
   "cell_type": "code",
   "metadata": {},
   "outputs": [],
   "source": [
    "# Practice time! Create a function with a list as the first input, an integer as the second, and return in a new list all indices of the list where the value at the INDEX matches the input integer\n",
    "# Finish creating the function below\n",
    "def match_integers(listA, b):\n",
    "    \"\"\"\n",
    "    This function returns all indices of listA where the value at that index matches integer b\n",
    "    \"\"\"\n",
    "\n",
    "    return ()\n",
    "\n",
    "# Execute function\n",
    "# The statement below should print [1, 2]\n",
    "print(match_integers([1, 2, 2, 3, 4, 5], 2))"
   ]
  },
  {
   "cell_type": "markdown",
   "metadata": {},
   "outputs": [],
   "source": [
    "## 8. Reading a file\n",
    "One of the most powerful things you can do with Python is read a file, manipulate the data, and then store the results in a new file. This allows you to automate day-to-day tasks that would normally take you many manual minutes/hours to accomplish\n",
    "\n",
    "Now let's read a file of Boston housing data and see what we can glean from the data doing some light exploration. First we must import a new library called \"pandas\". This is by far the most prolific data exploration/manipulation library in Python and appears as one of the highest ranking keywords on any data science job postings on linkedin/indeed/etc..."
   ]
  },
  {
   "cell_type": "code",
   "metadata": {},
   "outputs": [],
   "source": [
    "# Let's read the csv file as a pandas data frame\n",
    "import pandas as pd\n",
    "\n",
    "url = 'https://raw.githubusercontent.com/jzhangab/DS101/master/1_Data/housing.csv'\n",
    "df = pd.read_csv(url, sep = ',')"
   ]
  },
  {
   "cell_type": "code",
   "metadata": {},
   "outputs": [],
   "source": [
    "# We can use the following command to peak at the first 5 rows of the dataframe\n",
    "df.head()"
   ]
  },
  {
   "cell_type": "code",
   "metadata": {},
   "outputs": [],
   "source": [
    "# How many data points do we have in this dataset?\n",
    "len(df)"
   ]
  },
  {
   "cell_type": "code",
   "metadata": {},
   "outputs": [],
   "source": [
    "# What is the average value of property in Boston in 2019?\n",
    "# We can reference a specific column in a dataframe similar to how we do it in a dictionary.\n",
    "df['Value'].mean()"
   ]
  },
  {
   "cell_type": "code",
   "metadata": {},
   "outputs": [],
   "source": [
    "# We can also retrieve items in a dataframe by index\n",
    "# This grabs the 2nd value from the Value column\n",
    "df['Value'][1]"
   ]
  },
  {
   "cell_type": "code",
   "metadata": {},
   "outputs": [],
   "source": [
    "# In pandas dataframes we can subset the dataframe using conditions\n",
    "# The following grabs all properties with values less than 1 million dollars and stores the result in a new dataframe df_1M\n",
    "df_1M = df.loc[df['Value'] < 1000000]\n",
    "df_1M.head()"
   ]
  },
  {
   "cell_type": "code",
   "metadata": {},
   "outputs": [],
   "source": [
    "# Practice Time!\n",
    "# Sometimes it's necessary to remove weird datapoints, let's remove all properties where the Size is 0\n",
    "# Type in your code below\n",
    "\n"
   ]
  },
  {
   "cell_type": "markdown",
   "metadata": {},
   "outputs": [],
   "source": [
    "## 9. Plotting a Histogram\n",
    "It can often be useful to visualize data by plotting it. Histograms are super useful because they give us a quick glance at the shape/concentration of the distribution."
   ]
  },
  {
   "cell_type": "code",
   "metadata": {},
   "outputs": [],
   "source": [
    "# Let's read the csv file as a pandas data frame\n",
    "import pandas as pd\n",
    "\n",
    "url = 'https://raw.githubusercontent.com/jzhangab/DS101/master/1_Data/housing.csv'\n",
    "df = pd.read_csv(url, sep = ',')"
   ]
  },
  {
   "cell_type": "code",
   "metadata": {},
   "outputs": [],
   "source": [
    "# Let's plot a histogram of the Boston property\n",
    "# You can specify the number of bins in the histograms using one of the parameters\n",
    "# Let's also only consider property greater than 0 value and less than 2 million dollars\n",
    "\n",
    "df = df.loc[(df['Value'] > 0) & (df['Value'] < 2000000)]\n",
    "\n",
    "# Play around with the number of bins to see how the data is separated\n",
    "%matplotlib inline\n",
    "df.hist(bins = 10)"
   ]
  },
  {
   "cell_type": "code",
   "metadata": {},
   "outputs": [],
   "source": [
    "# Practice Time!\n",
    "# We subsetted the data using ranges of Value, let's now try to only get houses that were built AFTER 1900\n",
    "# Below subset the data to remove the Year Built outliers older than 1900 and then replot the histograms\n",
    "\n",
    "\n"
   ]
  },
  {
   "cell_type": "markdown",
   "metadata": {},
   "outputs": [],
   "source": [
    "## 10. Plotting a Scatterplot\n",
    "Scatterplots are very useful for quickly visualizing the relationship between two factors."
   ]
  },
  {
   "cell_type": "code",
   "metadata": {},
   "outputs": [],
   "source": [
    "# Let's read the csv file as a pandas data frame\n",
    "import pandas as pd\n",
    "\n",
    "url = 'https://raw.githubusercontent.com/jzhangab/DS101/master/1_Data/housing.csv'\n",
    "df = pd.read_csv(url, sep = ',')"
   ]
  },
  {
   "cell_type": "code",
   "metadata": {},
   "outputs": [],
   "source": [
    "# Let's plot a scatterplot of Year Built vs. Value\n",
    "%matplotlib inline\n",
    "df.plot.scatter(x = 'Year Built',\n",
    "                y = 'Value')"
   ]
  },
  {
   "cell_type": "code",
   "metadata": {},
   "outputs": [],
   "source": [
    "# Practice Time!\n",
    "# Seems like there are a lot of outliers above the $10,000,000\n",
    "# Subset the data to values below $10,000,000 and replot below\n",
    "\n",
    "\n"
   ]
  },
  {
   "cell_type": "markdown",
   "metadata": {},
   "outputs": [],
   "source": [
    "# CONGRATS!\n",
    "### You have finished Python basics in under 1 hour! Remember that you don't have to memorize syntax, if you are not sure how to do something in code use trusty Google + Stack Overflow.\n",
    "## Now get ready to dive in to Machine Learning!"
   ]
  },
  {
   "cell_type": "code",
   "metadata": {},
   "outputs": [],
   "source": []
  }
 ]
}