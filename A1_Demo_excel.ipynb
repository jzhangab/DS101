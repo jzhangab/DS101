{
 "cells": [
  {
   "cell_type": "markdown",
   "metadata": {},
   "source": [
    "# Demo Notebook - Text Data Manipulation\n",
    "\n",
    "### Description\n",
    "The purpose of this notebook is to provide examples of common text data manipulations that can be used in Python to automate data processing tasks. The notebook will focus on the two most common types of text data: excel and csv. The following topics will be covered:\n",
    "\n",
    "1. Reading multiple excel files from the same directory\n",
    "2. Removing an excel header\n",
    "3. Combining multiple excel sheets vertically (concatenate)\n",
    "4. Removing duplicates\n",
    "5. Removing missing values\n",
    "6. Expanding 1 row with combined field into multiple rows\n",
    "7. Reading a csv file\n",
    "8. Merging excel data and csv data horizontally (join)\n",
    "9. Outputting to new excel or csv file\n"
   ]
  },
  {
   "cell_type": "code",
   "execution_count": 42,
   "metadata": {},
   "outputs": [],
   "source": [
    "# First we must import the pandas package that we will use to read our files\n",
    "import pandas as pd"
   ]
  },
  {
   "cell_type": "markdown",
   "metadata": {},
   "source": [
    "## 1. Reading multiple excel files from the same directory"
   ]
  },
  {
   "cell_type": "code",
   "execution_count": 43,
   "metadata": {},
   "outputs": [],
   "source": [
    "# Import the glob package\n",
    "import glob\n",
    "\n",
    "# Define the directory we want to look at\n",
    "directory = '1_Data/Excel_demo'\n",
    "filenames = glob.glob(directory + \"/*\")\n",
    "\n",
    "# What this next line does is create a new list of filenames with the string \"excel_demo\" in the name.\n",
    "excel_filenames = [f for f in filenames if \"excel_demo\" in f]"
   ]
  },
  {
   "cell_type": "markdown",
   "metadata": {},
   "source": [
    "## 2 + 3. Removing an excel header and combining multiple excel sheets vertically"
   ]
  },
  {
   "cell_type": "code",
   "execution_count": 44,
   "metadata": {
    "scrolled": true
   },
   "outputs": [],
   "source": [
    "# pd.concat is used to concatenate multiple dataframes\n",
    "df_excel = pd.concat((pd.read_excel(f,\n",
    "                                    sheet_name = \"export_query_results\",\n",
    "                                    skiprows = 5) for f in excel_filenames)) #skiprows is used to skip headers\n",
    "\n",
    "# If you only want to read one file you can use this instead:\n",
    "# pd.read_excel(\"1_Data/Excel_demo/excel_demo_1.xlsx\", sheet_name = \"export_query_results\", skiprows = 5)"
   ]
  },
  {
   "cell_type": "markdown",
   "metadata": {},
   "source": [
    "## 4. Remove duplicates"
   ]
  },
  {
   "cell_type": "code",
   "execution_count": 45,
   "metadata": {},
   "outputs": [],
   "source": [
    "df_excel = df_excel.drop_duplicates(keep = \"first\")"
   ]
  },
  {
   "cell_type": "markdown",
   "metadata": {},
   "source": [
    "## 5. Remove missing values"
   ]
  },
  {
   "cell_type": "code",
   "execution_count": 46,
   "metadata": {},
   "outputs": [],
   "source": [
    "df_excel = df_excel.dropna()"
   ]
  },
  {
   "cell_type": "markdown",
   "metadata": {},
   "source": [
    "## 6. Expand a row into multiple rows based on delimited column\n",
    "We will expand the \";\" delimited column [Type] into multiple rows"
   ]
  },
  {
   "cell_type": "code",
   "execution_count": 47,
   "metadata": {},
   "outputs": [],
   "source": [
    "# First convert [Type] into list form\n",
    "df_excel['Type'] = df_excel['Type'].str.split(';')"
   ]
  },
  {
   "cell_type": "code",
   "execution_count": 49,
   "metadata": {},
   "outputs": [],
   "source": [
    "# Then explode the column\n",
    "df_excel = df_excel.explode('Type')"
   ]
  },
  {
   "cell_type": "markdown",
   "metadata": {},
   "source": [
    "## 7. Read a single CSV file"
   ]
  },
  {
   "cell_type": "code",
   "execution_count": 51,
   "metadata": {},
   "outputs": [],
   "source": [
    "df_csv = pd.read_csv(\"1_Data/Excel_demo/map.csv\")"
   ]
  },
  {
   "cell_type": "markdown",
   "metadata": {},
   "source": [
    "## 8. Merging excel data and csv data horizontally (join)"
   ]
  },
  {
   "cell_type": "code",
   "execution_count": 52,
   "metadata": {},
   "outputs": [],
   "source": [
    "# This is a left join\n",
    "df_merge = pd.merge(df_excel,\n",
    "                    df_csv,\n",
    "                    left_on = 'PR ID',\n",
    "                    right_on = 'PR',\n",
    "                    how = 'left')"
   ]
  },
  {
   "cell_type": "markdown",
   "metadata": {},
   "source": [
    "## 9. Outputting to new excel or csv file"
   ]
  },
  {
   "cell_type": "code",
   "execution_count": 54,
   "metadata": {},
   "outputs": [],
   "source": [
    "# Output to excel\n",
    "df_merge.to_excel(\"1_Data/Excel_demo/excel_output.xlsx\")\n",
    "\n",
    "# Output to csv\n",
    "df_merge.to_csv(\"1_Data/Excel_demo/csv_output.csv\")"
   ]
  },
  {
   "cell_type": "code",
   "execution_count": null,
   "metadata": {},
   "outputs": [],
   "source": []
  }
 ],
 "metadata": {
  "file_extension": ".py",
  "kernelspec": {
   "display_name": "Python 3",
   "language": "python",
   "name": "python3"
  },
  "language_info": {
   "codemirror_mode": {
    "name": "ipython",
    "version": 3
   },
   "file_extension": ".py",
   "mimetype": "text/x-python",
   "name": "python",
   "nbconvert_exporter": "python",
   "pygments_lexer": "ipython3",
   "version": "3.7.4"
  },
  "mimetype": "text/x-python",
  "name": "python",
  "npconvert_exporter": "python",
  "pygments_lexer": "ipython3",
  "version": 3
 },
 "nbformat": 4,
 "nbformat_minor": 2
}
